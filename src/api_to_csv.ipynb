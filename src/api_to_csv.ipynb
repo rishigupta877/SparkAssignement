{
 "cells": [
  {
   "cell_type": "code",
   "execution_count": 51,
   "metadata": {},
   "outputs": [],
   "source": [
    "import requests\n",
    "import csv\n",
    "import json\n",
    "import logging"
   ]
  },
  {
   "cell_type": "code",
   "execution_count": 65,
   "metadata": {},
   "outputs": [],
   "source": [
    "\n",
    "\n",
    "# Configure logging\n",
    "logging.basicConfig(level=logging.INFO)  # Set logging level to INFO\n",
    "\n",
    "def fetch_country_data():\n",
    "    \n",
    "    with open('../config.json', 'r') as f:\n",
    "        config = json.load(f)\n",
    "\n",
    "    \n",
    "    base_url = config['api']['base_url']\n",
    "   \n",
    "\n",
    "  \n",
    "    url = base_url\n",
    "\n",
    "    try:\n",
    "        \n",
    "        response = requests.get(url)\n",
    "\n",
    "   \n",
    "        if response.status_code == 200:\n",
    "            \n",
    "            logging.info(\"Successfully fetched COVID-19 data.\")\n",
    "            return response.json()\n",
    "        else:\n",
    "         \n",
    "            logging.error(f\"Failed to fetch COVID-19 data. Status code: {response.status_code}\")\n",
    "            return None\n",
    "    except requests.RequestException as e:\n",
    "        \n",
    "        logging.error(f\"An error occurred during data retrieval: {str(e)}\")\n",
    "        return None\n",
    "# fetch_country_data()"
   ]
  },
  {
   "cell_type": "code",
   "execution_count": 63,
   "metadata": {},
   "outputs": [
    {
     "name": "stderr",
     "output_type": "stream",
     "text": [
      "INFO:root:Successfully fetched COVID-19 data.\n",
      "INFO:root:CSV file writing completed successfully.\n"
     ]
    }
   ],
   "source": [
    "\n",
    "# Configure logging\n",
    "logging.basicConfig(level=logging.INFO)  # Set logging level to INFO\n",
    "\n",
    "def write_country_data_to_csv(csv_file):\n",
    "    try:\n",
    "        # Open CSV file for writing\n",
    "        with open(csv_file, 'w', newline='') as file:\n",
    "            writer = csv.writer(file)\n",
    "\n",
    "            # Write header row\n",
    "            writer.writerow(['Country', 'Cases', 'Deaths', 'Recovered', 'Active Cases', 'Critical Cases'])\n",
    "\n",
    "            # Fetch country data\n",
    "            countries_data = fetch_country_data()\n",
    "\n",
    "            # Iterate over countries and fetch data\n",
    "            for country_data in countries_data:\n",
    "                try:\n",
    "                    if country_data:\n",
    "                        writer.writerow([\n",
    "                            country_data['country'],\n",
    "                            country_data['cases'],\n",
    "                            country_data['deaths'],\n",
    "                            country_data['recovered'],\n",
    "                            country_data['active'],\n",
    "                            country_data['critical']\n",
    "                        ])\n",
    "                except KeyError as e:\n",
    "                    # Log error if required keys are missing in country_data\n",
    "                    logging.error(f\"KeyError: Missing key in country_data - {str(e)}\")\n",
    "                except Exception as e:\n",
    "                    # Log general exception during data writing\n",
    "                    logging.error(f\"Error writing data to CSV: {str(e)}\")\n",
    "\n",
    "            logging.info(\"CSV file writing completed successfully.\")\n",
    "\n",
    "    except FileNotFoundError:\n",
    "        # Log error if CSV file path is incorrect or file is not accessible\n",
    "        logging.error(f\"FileNotFoundError: CSV file '{csv_file}' not found or inaccessible.\")\n",
    "    except Exception as e:\n",
    "        # Log general exception during CSV file operation\n",
    "        logging.error(f\"Error opening CSV file: {str(e)}\")\n",
    "\n",
    "# Example usage:\n",
    "\n",
    "\n"
   ]
  }
 ],
 "metadata": {
  "kernelspec": {
   "display_name": "Python 3",
   "language": "python",
   "name": "python3"
  },
  "language_info": {
   "codemirror_mode": {
    "name": "ipython",
    "version": 3
   },
   "file_extension": ".py",
   "mimetype": "text/x-python",
   "name": "python",
   "nbconvert_exporter": "python",
   "pygments_lexer": "ipython3",
   "version": "3.12.3"
  }
 },
 "nbformat": 4,
 "nbformat_minor": 2
}
